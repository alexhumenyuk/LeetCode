{
 "cells": [
  {
   "cell_type": "code",
   "execution_count": 25,
   "metadata": {},
   "outputs": [
    {
     "name": "stdout",
     "output_type": "stream",
     "text": [
      "[[2, 3, 4], [1, 3, 4], [1, 2, 4], [1, 2, 3]]\n",
      "[24, 12, 8, 6]\n",
      "\n",
      "Expected solution:\n",
      "[24, 12, 8, 6]\n",
      "\n",
      "\n",
      "[[1, 0, -3, 3], [-1, 0, -3, 3], [-1, 1, -3, 3], [-1, 1, 0, 3], [-1, 1, 0, -3]]\n",
      "[0, 0, 9, 0, 0]\n",
      "\n",
      "Expected solution:\n",
      "[0, 0, 9, 0, 0]\n",
      "\n",
      "\n"
     ]
    }
   ],
   "source": [
    "class Solution:\n",
    "    def productExceptSelf(self, nums: list[int]) -> list[int]:\n",
    "        ops_list=[]\n",
    "        for _ in range(len(nums)):\n",
    "            ops_list.append([])\n",
    "        for i in range(len(nums)):\n",
    "            if i==0:\n",
    "                ops_list[0]=nums[1:len(nums)]\n",
    "                #print(nums[1:len(nums)])\n",
    "            elif i==len(nums):\n",
    "                ops_list[i]=nums[:i]\n",
    "                #print(nums[:i])\n",
    "            else:\n",
    "                ops_list[i]=nums[:i]+nums[i+1:len(nums)]\n",
    "                #print(nums[:i])\n",
    "                #print(nums[i+1:len(nums)])\n",
    "        print(ops_list)\n",
    "        multiplication=1\n",
    "        output_list=[]\n",
    "        for sublist in ops_list:\n",
    "            for num in sublist:\n",
    "                multiplication=multiplication*num\n",
    "            output_list.append(multiplication)\n",
    "            multiplication=1\n",
    "        return output_list\n",
    "sol=Solution()\n",
    "nums=[1,2,3,4]\n",
    "print(sol.productExceptSelf(nums))\n",
    "print(\"\\n\"+\"Expected solution:\")\n",
    "print([24,12,8,6])\n",
    "print(\"\\n\")\n",
    "nums=[-1,1,0,-3,3]\n",
    "print(sol.productExceptSelf(nums))\n",
    "print(\"\\n\"+\"Expected solution:\")\n",
    "print([0,0,9,0,0])\n",
    "print(\"\\n\")"
   ]
  }
 ],
 "metadata": {
  "kernelspec": {
   "display_name": "Python 3",
   "language": "python",
   "name": "python3"
  },
  "language_info": {
   "codemirror_mode": {
    "name": "ipython",
    "version": 3
   },
   "file_extension": ".py",
   "mimetype": "text/x-python",
   "name": "python",
   "nbconvert_exporter": "python",
   "pygments_lexer": "ipython3",
   "version": "3.11.7"
  }
 },
 "nbformat": 4,
 "nbformat_minor": 2
}
