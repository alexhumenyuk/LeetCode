{
 "cells": [
  {
   "cell_type": "code",
   "execution_count": 18,
   "metadata": {},
   "outputs": [
    {
     "name": "stdout",
     "output_type": "stream",
     "text": [
      "[0, 1]\n",
      "[1, 2]\n",
      "[0, 1]\n"
     ]
    }
   ],
   "source": [
    "class Solution:\n",
    "    def twoSum(self, nums: list[int], target: int) -> list[int]:\n",
    "        nums_pos_dict={} #initialize a dict\n",
    "        for i,num in enumerate(nums): #add each num and its position in the nums list to the dict\n",
    "            if target-num in nums_pos_dict: #if the needed num [target - num] is in the dict\n",
    "                return [nums_pos_dict[target-num],i] #return the positions of the needed num and the one added last\n",
    "            nums_pos_dict[num]=i #if the needed number was not in the dict, add the next num and its position\n",
    "sol=Solution()\n",
    "nums = [2,7,11,15]\n",
    "target = 9\n",
    "print(sol.twoSum(nums,target))\n",
    "nums = [3,2,4]\n",
    "target = 6\n",
    "print(sol.twoSum(nums,target))\n",
    "nums = [3,3]\n",
    "target = 6\n",
    "print(sol.twoSum(nums,target))\n",
    "#O(n) complexity: only 1 loop used"
   ]
  }
 ],
 "metadata": {
  "kernelspec": {
   "display_name": "Python 3",
   "language": "python",
   "name": "python3"
  },
  "language_info": {
   "codemirror_mode": {
    "name": "ipython",
    "version": 3
   },
   "file_extension": ".py",
   "mimetype": "text/x-python",
   "name": "python",
   "nbconvert_exporter": "python",
   "pygments_lexer": "ipython3",
   "version": "3.11.7"
  }
 },
 "nbformat": 4,
 "nbformat_minor": 2
}
