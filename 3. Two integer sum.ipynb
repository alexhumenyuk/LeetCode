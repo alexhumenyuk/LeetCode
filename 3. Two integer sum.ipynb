{
 "cells": [
  {
   "cell_type": "code",
   "execution_count": 8,
   "metadata": {},
   "outputs": [
    {
     "name": "stdout",
     "output_type": "stream",
     "text": [
      "[0, 1]\n",
      "[1, 2]\n"
     ]
    }
   ],
   "source": [
    "class Solution:\n",
    "    def twoSum(self, nums: list[int], target: int) -> list[int]:\n",
    "        for i in range(0,len(nums)):\n",
    "            for j in range(0,len(nums)):\n",
    "                if i != j:\n",
    "                    sum = nums[i] + nums[j]\n",
    "                    if sum == target:\n",
    "                        return [i,j]\n",
    "sol=Solution()\n",
    "nums = [2,7,11,15]\n",
    "target = 9\n",
    "print(sol.twoSum(nums,target))\n",
    "nums = [3,2,4]\n",
    "target = 6\n",
    "print(sol.twoSum(nums,target))\n",
    "#Complejidad O(n2) por usar dos loops (i y j)"
   ]
  }
 ],
 "metadata": {
  "kernelspec": {
   "display_name": "Python 3",
   "language": "python",
   "name": "python3"
  },
  "language_info": {
   "codemirror_mode": {
    "name": "ipython",
    "version": 3
   },
   "file_extension": ".py",
   "mimetype": "text/x-python",
   "name": "python",
   "nbconvert_exporter": "python",
   "pygments_lexer": "ipython3",
   "version": "3.11.7"
  }
 },
 "nbformat": 4,
 "nbformat_minor": 2
}
