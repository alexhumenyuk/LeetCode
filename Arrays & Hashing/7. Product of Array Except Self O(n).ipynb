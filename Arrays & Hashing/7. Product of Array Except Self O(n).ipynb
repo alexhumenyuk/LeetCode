{
 "cells": [
  {
   "cell_type": "code",
   "execution_count": 48,
   "metadata": {},
   "outputs": [
    {
     "name": "stdout",
     "output_type": "stream",
     "text": [
      "[1, 1, 1, 1]\n",
      "Prefix: [1, 2, 6, 24]\n",
      "Postfix: [24, 24, 12, 4]\n",
      "[24, 12, 8, 6]\n",
      "\n",
      "Expected solution:\n",
      "[24, 12, 8, 6]\n",
      "\n",
      "\n",
      "[1, 1, 1, 1, 1]\n",
      "Prefix: [-1, -1, 0, 0, 0]\n",
      "Postfix: [0, 0, 0, -9, 3]\n",
      "[0, 0, 9, 0, 0]\n",
      "\n",
      "Expected solution:\n",
      "[0, 0, 9, 0, 0]\n",
      "\n",
      "\n",
      "[1, 1]\n",
      "Prefix: [0, 0]\n",
      "Postfix: [0, 0]\n",
      "[0, 0]\n",
      "\n",
      "Expected solution:\n",
      "[0, 0]\n",
      "\n",
      "\n"
     ]
    }
   ],
   "source": [
    "class Solution:\n",
    "    def productExceptSelf(self, nums: list[int]) -> list[int]:\n",
    "        prefix = [1] * (len(nums))\n",
    "        print(prefix)\n",
    "        left_product = 1\n",
    "        for i in range(0,len(nums)):\n",
    "            prefix[i]=left_product*nums[i]\n",
    "            left_product=left_product*nums[i]\n",
    "        print(\"Prefix: \"+str(prefix))\n",
    "        postfix=[1] * (len(nums))\n",
    "        right_product = 1\n",
    "        reversed_nums=nums[::-1]\n",
    "        for i in range(len(nums)):\n",
    "            postfix[i]=right_product*reversed_nums[i]\n",
    "            right_product=right_product*reversed_nums[i]\n",
    "        postfix=postfix[::-1]\n",
    "        print(\"Postfix: \"+str(postfix))\n",
    "        output=[1]*len(nums)\n",
    "        for i in range(len(nums)):\n",
    "            if i==0:\n",
    "                output[i]=postfix[i+1]\n",
    "            elif i==len(nums)-1:\n",
    "                output[i]=prefix[i-1]\n",
    "            else:\n",
    "                output[i]=prefix[i-1]*postfix[i+1]\n",
    "        return output\n",
    "sol=Solution()\n",
    "nums=[1,2,3,4]\n",
    "print(sol.productExceptSelf(nums))\n",
    "print(\"\\n\"+\"Expected solution:\")\n",
    "print([24,12,8,6])\n",
    "print(\"\\n\")\n",
    "nums=[-1,1,0,-3,3]\n",
    "print(sol.productExceptSelf(nums))\n",
    "print(\"\\n\"+\"Expected solution:\")\n",
    "print([0,0,9,0,0])\n",
    "print(\"\\n\")\n",
    "nums=[0,0]\n",
    "print(sol.productExceptSelf(nums))\n",
    "print(\"\\nExpected solution:\")\n",
    "print([0,0])\n",
    "print(\"\\n\")"
   ]
  }
 ],
 "metadata": {
  "kernelspec": {
   "display_name": "Python 3",
   "language": "python",
   "name": "python3"
  },
  "language_info": {
   "codemirror_mode": {
    "name": "ipython",
    "version": 3
   },
   "file_extension": ".py",
   "mimetype": "text/x-python",
   "name": "python",
   "nbconvert_exporter": "python",
   "pygments_lexer": "ipython3",
   "version": "3.11.7"
  }
 },
 "nbformat": 4,
 "nbformat_minor": 2
}
