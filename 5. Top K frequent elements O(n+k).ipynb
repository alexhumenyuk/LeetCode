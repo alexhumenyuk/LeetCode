{
 "cells": [
  {
   "cell_type": "code",
   "execution_count": 1,
   "metadata": {},
   "outputs": [
    {
     "name": "stdout",
     "output_type": "stream",
     "text": [
      "[1, 2]\n",
      "[1]\n",
      "[0]\n",
      "[5, 1, 2, 7, 6, 3, 8, 4, 11, 10]\n"
     ]
    }
   ],
   "source": [
    "class Solution:\n",
    "    def topKFrequent(self, nums: list[int], k: int) -> list[int]:\n",
    "        # Count the frequency of each number in nums\n",
    "        freq_dict={}\n",
    "        for num in nums:\n",
    "            if num in freq_dict:\n",
    "                freq_dict[num]+=1\n",
    "            else:\n",
    "                freq_dict[num]=1\n",
    "        #print(freq_dict)\n",
    "        #Create a list of buckets / empty lists to store the frequency of each number (from nums)\n",
    "        buckets = []\n",
    "        for num in range(len(nums) + 1): #len(nums)+1 in the case that all nums are the same (e.g. nums=[1,1,1], len=3 -> buckets=[[],[],[]]; here the frequency of \"1\" is \"3\" but buckets[3] does not exist, only buckets[0:2], so buckets[3] will not be available, therefore len must be 3+1\n",
    "            buckets.append([])\n",
    "        #print(buckets)\n",
    "        \n",
    "        #Place each number in the bucket/sublist corresponding to its frequency\n",
    "        for num, freq in freq_dict.items():\n",
    "            buckets[freq].append(num) #e.g. [1,1,1] -> freq = 3 -> buckets[3] -> [[],[],[],[1]]; 4th bucket/sublist, 3rd when counting from \"0\"\n",
    "            #print(buckets)\n",
    "        \n",
    "        #Flatten the list of buckets into a single list and reverse it to show first the numbers with the highest frequency\n",
    "        flat_list = []\n",
    "        for sublist in buckets:\n",
    "            for item in sublist: #if the bucket/sublist is empty, there is nothing to iterate over, meaning that empty buckets are skipped\n",
    "                flat_list.append(item)\n",
    "        flat_list.reverse()\n",
    "        #print(flat_list)\n",
    "        #Return the first k elements\n",
    "        return flat_list[:k]\n",
    "sol=Solution()\n",
    "nums = [1,1,1,2,2,3]\n",
    "k = 2\n",
    "print(sol.topKFrequent(nums,k))\n",
    "nums = [1]\n",
    "k = 1\n",
    "print(sol.topKFrequent(nums,k))\n",
    "nums=[3,0,1,0]\n",
    "k=1\n",
    "print(sol.topKFrequent(nums,k))\n",
    "#[0]\n",
    "nums=[3,2,3,1,2,4,5,5,6,7,7,8,2,3,1,1,1,10,11,5,6,2,4,7,8,5,6]\n",
    "k=10\n",
    "print(sol.topKFrequent(nums,k))\n",
    "#[1,2,5,3,6,7,4,8,10,11]"
   ]
  }
 ],
 "metadata": {
  "kernelspec": {
   "display_name": "Python 3",
   "language": "python",
   "name": "python3"
  },
  "language_info": {
   "codemirror_mode": {
    "name": "ipython",
    "version": 3
   },
   "file_extension": ".py",
   "mimetype": "text/x-python",
   "name": "python",
   "nbconvert_exporter": "python",
   "pygments_lexer": "ipython3",
   "version": "3.11.7"
  }
 },
 "nbformat": 4,
 "nbformat_minor": 2
}
