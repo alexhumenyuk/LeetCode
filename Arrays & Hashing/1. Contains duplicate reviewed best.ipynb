{
 "cells": [
  {
   "cell_type": "code",
   "execution_count": 2,
   "metadata": {},
   "outputs": [
    {
     "name": "stdout",
     "output_type": "stream",
     "text": [
      "True\n",
      "False\n"
     ]
    }
   ],
   "source": [
    "class Solution:\n",
    "    def containsDuplicate(self, nums) -> bool:\n",
    "        check_set=set()\n",
    "        for num in nums:\n",
    "            if num in check_set:\n",
    "                return True\n",
    "            check_set.add(num)\n",
    "        return False\n",
    "nums1=[1,2,3,1]\n",
    "nums2=[1,2,3,4]\n",
    "sol=Solution()\n",
    "print(sol.containsDuplicate(nums1))\n",
    "print(sol.containsDuplicate(nums2))"
   ]
  }
 ],
 "metadata": {
  "kernelspec": {
   "display_name": "Python 3",
   "language": "python",
   "name": "python3"
  },
  "language_info": {
   "codemirror_mode": {
    "name": "ipython",
    "version": 3
   },
   "file_extension": ".py",
   "mimetype": "text/x-python",
   "name": "python",
   "nbconvert_exporter": "python",
   "pygments_lexer": "ipython3",
   "version": "3.11.7"
  }
 },
 "nbformat": 4,
 "nbformat_minor": 2
}
