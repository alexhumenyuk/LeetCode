{
 "cells": [
  {
   "cell_type": "code",
   "execution_count": 1,
   "metadata": {},
   "outputs": [
    {
     "name": "stdout",
     "output_type": "stream",
     "text": [
      "True\n",
      "False\n"
     ]
    }
   ],
   "source": [
    "class Solution:\n",
    "    def containsDuplicate(self, nums) -> bool:\n",
    "        return len(nums) != len(set(nums))\n",
    "#Una lista se puede convertir en set. Al convertirla en set, los valores repetidos no se guardan, entonces la lista [1,2,3,3] tiene len=4 y el set correspondiente {1,2,3} tiene len=3.\n",
    "#Si la desigualdad se cumple, bool permite que se devuelva True; si no se cumple, la función devuelve False\n",
    "nums1=[1,2,3,1]\n",
    "nums2=[1,2,3,4]\n",
    "sol=Solution()\n",
    "print(sol.containsDuplicate(nums1))\n",
    "print(sol.containsDuplicate(nums2))"
   ]
  }
 ],
 "metadata": {
  "kernelspec": {
   "display_name": "Python 3",
   "language": "python",
   "name": "python3"
  },
  "language_info": {
   "codemirror_mode": {
    "name": "ipython",
    "version": 3
   },
   "file_extension": ".py",
   "mimetype": "text/x-python",
   "name": "python",
   "nbconvert_exporter": "python",
   "pygments_lexer": "ipython3",
   "version": "3.11.7"
  }
 },
 "nbformat": 4,
 "nbformat_minor": 2
}
