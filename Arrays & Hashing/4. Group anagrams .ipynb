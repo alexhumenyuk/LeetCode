{
 "cells": [
  {
   "cell_type": "code",
   "execution_count": 39,
   "metadata": {},
   "outputs": [
    {
     "name": "stdout",
     "output_type": "stream",
     "text": [
      "{('a', 'e', 't'): [0, 1, 3], ('a', 'n', 't'): [2, 4], ('a', 'b', 't'): [5]}\n",
      "[['eat', 'tea', 'ate'], ['tan', 'nat'], ['bat']]\n",
      "{(): [0]}\n",
      "[['']]\n",
      "{('a',): [0]}\n",
      "[['a']]\n"
     ]
    }
   ],
   "source": [
    "class Solution:\n",
    "    def groupAnagrams(self, strs: list[str]) -> list[list[str]]:\n",
    "        sorted_list=[]\n",
    "        for str in strs: #sort each str in alphabetical order\n",
    "            sorted_list.append(tuple(sorted(str))) #sorted returns a list. This cannot be used later on as a value of a dictionary (dictionaries have keys and corresponding values). Turn the lists to tuples to avoid this.\n",
    "        #print(sorted_list)\n",
    "        pos_dict={}\n",
    "        for i,str in enumerate(sorted_list): #dict with sorted strs as keys and a tuple with their positions in the list. E.g. for strs=[\"eat\",\"tea\",\"tan\",\"ate\",\"nat\",\"bat\"] -> ('a', 'e', 't'): [0, 1, 3]...\n",
    "            if str in pos_dict:\n",
    "                pos_dict[str].append(i)\n",
    "            else:\n",
    "                pos_dict[str]=[i]\n",
    "        print(pos_dict)\n",
    "        anagram_list=[] #list for each anagram\n",
    "        anagrams=[] #list with the lists of anagrams\n",
    "        for pos_lists in pos_dict.values(): #each position list (key of the dict) has the positions of the words that are anagrams, e.g.: [0, 1, 3]\n",
    "            for pos in pos_lists:\n",
    "                anagram_list.append(strs[pos]) #add each word to its anagram list\n",
    "            #once the anagram list is ready, add it to the general list and reset it for the next dict key and value\n",
    "            anagrams.append(anagram_list)\n",
    "            anagram_list=[]\n",
    "        return anagrams\n",
    "sol=Solution()\n",
    "strs=[\"eat\",\"tea\",\"tan\",\"ate\",\"nat\",\"bat\"]\n",
    "print(sol.groupAnagrams(strs))\n",
    "strs=[\"\"]\n",
    "print(sol.groupAnagrams(strs))\n",
    "strs=[\"a\"]\n",
    "print(sol.groupAnagrams(strs))"
   ]
  }
 ],
 "metadata": {
  "kernelspec": {
   "display_name": "Python 3",
   "language": "python",
   "name": "python3"
  },
  "language_info": {
   "codemirror_mode": {
    "name": "ipython",
    "version": 3
   },
   "file_extension": ".py",
   "mimetype": "text/x-python",
   "name": "python",
   "nbconvert_exporter": "python",
   "pygments_lexer": "ipython3",
   "version": "3.11.7"
  }
 },
 "nbformat": 4,
 "nbformat_minor": 2
}
